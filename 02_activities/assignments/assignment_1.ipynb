{
 "cells": [
  {
   "cell_type": "markdown",
   "id": "ba8ab56f",
   "metadata": {},
   "source": [
    "# Advanced Image Classification with ImageNet"
   ]
  },
  {
   "cell_type": "markdown",
   "id": "7c630244b8fe2847",
   "metadata": {
    "collapsed": false
   },
   "source": [
    "In this assignment, you will be asked to develop a convolutional neural network (CNN) to classify images from the CIFAR-100 dataset. At each step, you'll be guided through the process of developing a model architecture to solve a problem. Your goal is to create a CNN that attains at least 55% accuracy on the validation set.\n",
    "\n",
    "### The CIFAR-100 Dataset\n",
    "\n",
    "The [CIFAR-100 dataset](https://www.cs.toronto.edu/~kriz/cifar.html) consists of 60000 32x32 colour images in 100 classes, with 600 images per class. There are 50000 training images and 10000 test images. The dataset is divided into five training batches and one test batch, each with 10000 images. The test batch contains exactly 1000 randomly-selected images from each class. The training batches contain the remaining images in random order, but some training batches may contain more images from one class than another. Between them, the training batches contain exactly 500 images from each class.\n",
    "\n",
    "### Tools\n",
    "\n",
    "You will use Keras with TensorFlow to develop your CNN. For this assignment, it's strongly recommended that you use a GPU to accelerate your training, or else you might find it difficult to train your network in a reasonable amount of time. If you have a computer with a GPU that you wish to use, you can follow the [TensorFlow instructions](https://www.tensorflow.org/install/) for installing TensorFlow with GPU support. Otherwise, you can use [Google Colab](https://colab.research.google.com/) to complete this assignment. Colab provides free access to GPU-enabled machines. If you run into any issues, please contact us as soon as possible so that we can help you resolve them."
   ]
  },
  {
   "cell_type": "markdown",
   "id": "fab62988ece1528d",
   "metadata": {
    "collapsed": false
   },
   "source": [
    "## Task 1: Data Exploration and Preprocessing (Complete or Incomplete)\n",
    "### 1a: Load and Explore the Dataset\n",
    "- Use the code below to download the dataset.\n",
    "- Explore the dataset: examine the shape of the training and test sets, the dimensions of the images, and the number of classes. Show a few examples from the training set."
   ]
  },
  {
   "cell_type": "code",
   "execution_count": 1,
   "id": "8820fcdc5ae52ae2",
   "metadata": {
    "ExecuteTime": {
     "start_time": "2024-01-26T17:04:08.432758Z"
    },
    "collapsed": false,
    "is_executing": true
   },
   "outputs": [
    {
     "name": "stdout",
     "output_type": "stream",
     "text": [
      "Downloading data from https://www.cs.toronto.edu/~kriz/cifar-100-python.tar.gz\n",
      "169001437/169001437 [==============================] - 3s 0us/step\n"
     ]
    }
   ],
   "source": [
    "from keras.datasets import cifar100\n",
    "\n",
    "# Load the CIFAR-100 dataset\n",
    "(x_train, y_train), (x_test, y_test) = cifar100.load_data(label_mode='fine')"
   ]
  },
  {
   "cell_type": "code",
   "execution_count": null,
   "id": "a386b4072078138f",
   "metadata": {
    "collapsed": false
   },
   "outputs": [
    {
     "name": "stdout",
     "output_type": "stream",
     "text": [
      "x_train shape: (50000, 32, 32, 3)\n",
      "y_train shape: (50000, 1)\n",
      "x_test shape: (10000, 32, 32, 3)\n",
      "y_test shape: (10000, 1)\n",
      "Image dimensions: (32, 32, 3)\n",
      "Number of classes: 100\n"
     ]
    },
    {
     "data": {
      "image/png": "[encoded data removed]",
      "text/plain": [
       "<Figure size 1000x200 with 5 Axes>"
      ]
     },
     "metadata": {},
     "output_type": "display_data"
    }
   ],
   "source": [
    "import matplotlib.pyplot as plt\n",
    "from keras.datasets import cifar100\n",
    "\n",
    "# Load the CIFAR-100 dataset\n",
    "(x_train, y_train), (x_test, y_test) = cifar100.load_data(label_mode='fine')\n",
    "\n",
    "# Examine the shape of the training and test sets\n",
    "print(f\"x_train shape: {x_train.shape}\")\n",
    "print(f\"y_train shape: {y_train.shape}\")\n",
    "print(f\"x_test shape: {x_test.shape}\")\n",
    "print(f\"y_test shape: {y_test.shape}\")\n",
    "\n",
    "# Extract dimensions of the images\n",
    "image_shape = x_train.shape[1:]  # Height, Width, Channels\n",
    "print(f\"Image dimensions: {image_shape}\")\n",
    "\n",
    "# Determine the number of classes\n",
    "num_classes = len(set(y_train.flatten()))\n",
    "print(f\"Number of classes: {num_classes}\")\n",
    "\n",
    "# Examples from the training set\n",
    "def show_examples(x, y, num_examples=5):\n",
    "    plt.figure(figsize=(10, 2))\n",
    "    for i in range(num_examples):\n",
    "        plt.subplot(1, num_examples, i + 1)\n",
    "        plt.imshow(x[i])\n",
    "        plt.title(f\"Class: {y[i][0]}\")\n",
    "        plt.axis(\"off\")\n",
    "    plt.show()\n",
    "\n",
    "# Show examples\n",
    "show_examples(x_train, y_train)\n"
   ]
  },
  {
   "cell_type": "markdown",
   "id": "ad49291da3a819ea",
   "metadata": {
    "collapsed": false
   },
   "source": [
    "### 1b: Data Preprocessing (4 Marks)\n",
    "- With the data downloaded, it's time to preprocess it. Start by normalizing the images so that they all have pixel values in the range [0, 1].\n",
    "- Next, convert the labels to one-hot encoded vectors.\n",
    "- Finally, split the training set into training and validation sets. Use 80% of the training set for training and the remaining 20% for validation."
   ]
  },
  {
   "cell_type": "code",
   "execution_count": null,
   "id": "b18c10172fa72d0c",
   "metadata": {
    "collapsed": false
   },
   "outputs": [
    {
     "name": "stdout",
     "output_type": "stream",
     "text": [
      "x_train shape: (40000, 32, 32, 3), y_train shape: (40000, 100)\n",
      "x_val shape: (10000, 32, 32, 3), y_val shape: (10000, 100)\n",
      "x_test shape: (10000, 32, 32, 3), y_test shape: (10000, 100)\n"
     ]
    }
   ],
   "source": [
    "import numpy as np\n",
    "from sklearn.model_selection import train_test_split\n",
    "from tensorflow.keras.utils import to_categorical\n",
    "from keras.datasets import cifar100\n",
    "\n",
    "# Load the CIFAR-100 dataset\n",
    "(x_train, y_train), (x_test, y_test) = cifar100.load_data(label_mode='fine')\n",
    "\n",
    "# Normalize the images\n",
    "x_train = x_train.astype('float32') / 255.0\n",
    "x_test = x_test.astype('float32') / 255.0\n",
    "\n",
    "# Convert labels to one-hot encoded vectors\n",
    "num_classes = 100\n",
    "y_train = to_categorical(y_train, num_classes=num_classes)\n",
    "y_test = to_categorical(y_test, num_classes=num_classes)\n",
    "\n",
    "# Split training set into training and validation sets\n",
    "x_train, x_val, y_train, y_val = train_test_split(\n",
    "    x_train, y_train, test_size=0.2, random_state=42\n",
    ")\n",
    "\n",
    "# Print shapes to verify\n",
    "print(f\"x_train shape: {x_train.shape}, y_train shape: {y_train.shape}\")\n",
    "print(f\"x_val shape: {x_val.shape}, y_val shape: {y_val.shape}\")\n",
    "print(f\"x_test shape: {x_test.shape}, y_test shape: {y_test.shape}\")\n"
   ]
  },
  {
   "cell_type": "markdown",
   "id": "5993757f08c89db7",
   "metadata": {
    "collapsed": false
   },
   "source": [
    "## Task 2: Model Development (Complete or Incomplete)\n",
    "### Task 2a: Create a Baseline CNN Model\n",
    "- Design a CNN architecture. Your architecture should use convolutional layers, max pooling layers, and dense layers. You can use any number of layers, and you can experiment with different numbers of filters, filter sizes, strides, padding, etc. The design doesn't need to be perfect, but it should be unique to you.\n",
    "- Print out the model summary."
   ]
  },
  {
   "cell_type": "code",
   "execution_count": null,
   "id": "c9edafdaf887b8d5",
   "metadata": {
    "collapsed": false
   },
   "outputs": [
    {
     "name": "stdout",
     "output_type": "stream",
     "text": [
      "Model: \"sequential_1\"\n",
      "_________________________________________________________________\n",
      " Layer (type)                Output Shape              Param #   \n",
      "=================================================================\n",
      " conv2d_3 (Conv2D)           (None, 32, 32, 32)        896       \n",
      "                                                                 \n",
      " max_pooling2d_3 (MaxPooling  (None, 16, 16, 32)       0         \n",
      " 2D)                                                             \n",
      "                                                                 \n",
      " conv2d_4 (Conv2D)           (None, 16, 16, 64)        18496     \n",
      "                                                                 \n",
      " max_pooling2d_4 (MaxPooling  (None, 8, 8, 64)         0         \n",
      " 2D)                                                             \n",
      "                                                                 \n",
      " conv2d_5 (Conv2D)           (None, 8, 8, 128)         73856     \n",
      "                                                                 \n",
      " max_pooling2d_5 (MaxPooling  (None, 4, 4, 128)        0         \n",
      " 2D)                                                             \n",
      "                                                                 \n",
      " flatten_1 (Flatten)         (None, 2048)              0         \n",
      "                                                                 \n",
      " dense_1 (Dense)             (None, 512)               1049088   \n",
      "                                                                 \n",
      " dropout (Dropout)           (None, 512)               0         \n",
      "                                                                 \n",
      " dense_2 (Dense)             (None, 100)               51300     \n",
      "                                                                 \n",
      "=================================================================\n",
      "Total params: 1,193,636\n",
      "Trainable params: 1,193,636\n",
      "Non-trainable params: 0\n",
      "_________________________________________________________________\n"
     ]
    }
   ],
   "source": [
    "from keras.models import Sequential\n",
    "from keras.layers import Conv2D, MaxPooling2D, Flatten, Dense, Dropout\n",
    "\n",
    "# Define CNN model\n",
    "model = Sequential()\n",
    "\n",
    "# 1st Convolutional Layer\n",
    "model.add(Conv2D(32, (3, 3), activation='relu', input_shape=(32, 32, 3), padding='same'))\n",
    "model.add(MaxPooling2D(pool_size=(2, 2)))\n",
    "\n",
    "# 2nd Convolutional Layer\n",
    "model.add(Conv2D(64, (3, 3), activation='relu', padding='same'))\n",
    "model.add(MaxPooling2D(pool_size=(2, 2)))\n",
    "\n",
    "# 3rd Convolutional Layer\n",
    "model.add(Conv2D(128, (3, 3), activation='relu', padding='same'))\n",
    "model.add(MaxPooling2D(pool_size=(2, 2)))\n",
    "\n",
    "# Flatten the output of the convolutional layers\n",
    "model.add(Flatten())\n",
    "\n",
    "# 1st Dense Layer\n",
    "model.add(Dense(512, activation='relu'))\n",
    "model.add(Dropout(0.5))  # Dropout to prevent overfitting\n",
    "\n",
    "# Output Layer (100 classes for CIFAR-100)\n",
    "model.add(Dense(100, activation='softmax'))\n",
    "\n",
    "# Print the model summary\n",
    "model.summary()\n"
   ]
  },
  {
   "cell_type": "markdown",
   "id": "546324c007c73db5",
   "metadata": {
    "collapsed": false
   },
   "source": [
    "### Task 2b: Compile the model\n",
    "\n",
    "- Select an appropriate loss function and optimizer for your model. These can be ones we have looked at already, or they can be different. \n",
    "- Briefly explain your choices (one or two sentences each).\n",
    "- <b>Loss function:</b> ______\n",
    "- <b>Optimizer:</b> ______"
   ]
  },
  {
   "cell_type": "code",
   "execution_count": null,
   "id": "ab39f4ba69d684e9",
   "metadata": {
    "collapsed": false
   },
   "outputs": [
    {
     "name": "stdout",
     "output_type": "stream",
     "text": [
      "Model: \"sequential_2\"\n",
      "_________________________________________________________________\n",
      " Layer (type)                Output Shape              Param #   \n",
      "=================================================================\n",
      " conv2d_6 (Conv2D)           (None, 32, 32, 32)        896       \n",
      "                                                                 \n",
      " max_pooling2d_6 (MaxPooling  (None, 16, 16, 32)       0         \n",
      " 2D)                                                             \n",
      "                                                                 \n",
      " conv2d_7 (Conv2D)           (None, 16, 16, 64)        18496     \n",
      "                                                                 \n",
      " max_pooling2d_7 (MaxPooling  (None, 8, 8, 64)         0         \n",
      " 2D)                                                             \n",
      "                                                                 \n",
      " conv2d_8 (Conv2D)           (None, 8, 8, 128)         73856     \n",
      "                                                                 \n",
      " max_pooling2d_8 (MaxPooling  (None, 4, 4, 128)        0         \n",
      " 2D)                                                             \n",
      "                                                                 \n",
      " flatten_2 (Flatten)         (None, 2048)              0         \n",
      "                                                                 \n",
      " dense_3 (Dense)             (None, 512)               1049088   \n",
      "                                                                 \n",
      " dropout_1 (Dropout)         (None, 512)               0         \n",
      "                                                                 \n",
      " dense_4 (Dense)             (None, 100)               51300     \n",
      "                                                                 \n",
      "=================================================================\n",
      "Total params: 1,193,636\n",
      "Trainable params: 1,193,636\n",
      "Non-trainable params: 0\n",
      "_________________________________________________________________\n"
     ]
    }
   ],
   "source": [
    "from keras import optimizers\n",
    "from keras.models import Sequential\n",
    "from keras.layers import Conv2D, MaxPooling2D, Flatten, Dense, Dropout\n",
    "\n",
    "# Define CNN model\n",
    "model = Sequential()\n",
    "\n",
    "# Add convolutional layers, max pooling layers, and dense layers\n",
    "model.add(Conv2D(32, (3, 3), activation='relu', input_shape=(32, 32, 3), padding='same'))\n",
    "model.add(MaxPooling2D(pool_size=(2, 2)))\n",
    "model.add(Conv2D(64, (3, 3), activation='relu', padding='same'))\n",
    "model.add(MaxPooling2D(pool_size=(2, 2)))\n",
    "model.add(Conv2D(128, (3, 3), activation='relu', padding='same'))\n",
    "model.add(MaxPooling2D(pool_size=(2, 2)))\n",
    "model.add(Flatten())\n",
    "model.add(Dense(512, activation='relu'))\n",
    "model.add(Dropout(0.5))\n",
    "model.add(Dense(100, activation='softmax'))\n",
    "\n",
    "# Compile the model\n",
    "model.compile(\n",
    "    loss='categorical_crossentropy',  # Loss function\n",
    "    optimizer=optimizers.Adam(learning_rate=0.001),  # Optimizer\n",
    "    metrics=['accuracy']\n",
    ")\n",
    "\n",
    "# Print model summary\n",
    "model.summary()\n"
   ]
  },
  {
   "cell_type": "markdown",
   "id": "653fba928413b9f6",
   "metadata": {
    "collapsed": false
   },
   "source": [
    "## Task 3: Model Training and Evaluation (Complete or Incomplete)\n",
    "### Task 3a: Train the Model\n",
    "\n",
    "- Train your model for an appropriate number of epochs. Explain your choice of the number of epochs used - you can change this number before submitting your assignment.\n",
    "- Use a batch size of 32.\n",
    "- Use the validation set for validation."
   ]
  },
  {
   "cell_type": "code",
   "execution_count": null,
   "id": "9de74f274ad08546",
   "metadata": {
    "collapsed": false
   },
   "outputs": [
    {
     "name": "stdout",
     "output_type": "stream",
     "text": [
      "Epoch 1/10\n",
      "1250/1250 - 59s - loss: 3.9498 - accuracy: 0.0940 - val_loss: 3.3677 - val_accuracy: 0.1911 - 59s/epoch - 47ms/step\n",
      "Epoch 2/10\n",
      "1250/1250 - 56s - loss: 3.2434 - accuracy: 0.2112 - val_loss: 2.9141 - val_accuracy: 0.2799 - 56s/epoch - 45ms/step\n",
      "Epoch 3/10\n",
      "1250/1250 - 54s - loss: 2.8710 - accuracy: 0.2843 - val_loss: 2.7448 - val_accuracy: 0.3211 - 54s/epoch - 44ms/step\n",
      "Epoch 4/10\n",
      "1250/1250 - 55s - loss: 2.6184 - accuracy: 0.3333 - val_loss: 2.5471 - val_accuracy: 0.3543 - 55s/epoch - 44ms/step\n",
      "Epoch 5/10\n",
      "1250/1250 - 56s - loss: 2.4093 - accuracy: 0.3731 - val_loss: 2.4828 - val_accuracy: 0.3638 - 56s/epoch - 45ms/step\n",
      "Epoch 6/10\n",
      "1250/1250 - 55s - loss: 2.2492 - accuracy: 0.4081 - val_loss: 2.3865 - val_accuracy: 0.3902 - 55s/epoch - 44ms/step\n",
      "Epoch 7/10\n",
      "1250/1250 - 55s - loss: 2.0837 - accuracy: 0.4421 - val_loss: 2.3243 - val_accuracy: 0.4020 - 55s/epoch - 44ms/step\n",
      "Epoch 8/10\n",
      "1250/1250 - 57s - loss: 1.9380 - accuracy: 0.4739 - val_loss: 2.3300 - val_accuracy: 0.4097 - 57s/epoch - 46ms/step\n",
      "Epoch 9/10\n",
      "1250/1250 - 57s - loss: 1.8016 - accuracy: 0.5027 - val_loss: 2.3619 - val_accuracy: 0.4079 - 57s/epoch - 46ms/step\n",
      "Epoch 10/10\n",
      "1250/1250 - 53s - loss: 1.6702 - accuracy: 0.5337 - val_loss: 2.3730 - val_accuracy: 0.4122 - 53s/epoch - 42ms/step\n"
     ]
    }
   ],
   "source": [
    "# Train model\n",
    "history = model.fit(\n",
    "    x=x_train,  # Training data\n",
    "    y=y_train,  # Training labels\n",
    "    validation_data=(x_val, y_val),  # Validation data\n",
    "    epochs=10,  # Number of epochs\n",
    "    batch_size=32,  # Batch size\n",
    "    verbose=2  # Display training progress\n",
    ")\n"
   ]
  },
  {
   "cell_type": "markdown",
   "id": "b48615c26b99d2e9",
   "metadata": {
    "collapsed": false
   },
   "source": [
    "### Task 3b: Accuracy and other relevant metrics on the test set\n",
    "\n",
    "- Report the accuracy of your model on the test set.\n",
    "- While accuracy is a good metric, there are many other ways to numerically evaluate a model. Report at least one other metric, and explain what it measures and how it is calculated.\n",
    "\n",
    "- <b>Accuracy:</b> ______\n",
    "- <b>Other metric:</b> ______\n",
    "- <b>Reason for selection:</b> _____\n",
    "- <b>Value of metric:</b> ______\n",
    "- <b>Interpretation of metric value:</b> ______"
   ]
  },
  {
   "cell_type": "code",
   "execution_count": null,
   "id": "f670665fda92fb0e",
   "metadata": {
    "ExecuteTime": {
     "end_time": "2024-01-26T17:49:39.016880Z",
     "start_time": "2024-01-26T17:49:39.012100Z"
    },
    "collapsed": false
   },
   "outputs": [
    {
     "name": "stdout",
     "output_type": "stream",
     "text": [
      "313/313 - 4s - loss: 2.3550 - accuracy: 0.4171 - 4s/epoch - 14ms/step\n",
      "313/313 [==============================] - 5s 16ms/step\n",
      "Accuracy: 0.4171\n",
      "Mean IoU: 0.2705\n"
     ]
    }
   ],
   "source": [
    "# Evaluate model on test set\n",
    "test_loss, test_accuracy = model.evaluate(x_test, y_test, verbose=2)\n",
    "\n",
    "# Report Accuracy\n",
    "accuracy = test_accuracy\n",
    "\n",
    "# Choose another metric: Mean Intersection over Union (IoU)\n",
    "from sklearn.metrics import jaccard_score\n",
    "import numpy as np\n",
    "\n",
    "# Calculate Mean IoU for each class and average them\n",
    "y_test_true = np.argmax(y_test, axis=1)\n",
    "y_test_pred = np.argmax(model.predict(x_test), axis=1)\n",
    "\n",
    "# Calculate IoU for each class\n",
    "iou_per_class = []\n",
    "for i in range(100):\n",
    "    iou = jaccard_score(y_test_true == i, y_test_pred == i, average='binary')\n",
    "    iou_per_class.append(iou)\n",
    "\n",
    "mean_iou = np.mean(iou_per_class)\n",
    "\n",
    "# Output results\n",
    "print(f\"Accuracy: {accuracy:.4f}\")\n",
    "print(f\"Mean IoU: {mean_iou:.4f}\")\n"
   ]
  },
  {
   "cell_type": "markdown",
   "id": "58d2d836d4e8ce99",
   "metadata": {
    "collapsed": false
   },
   "source": [
    "### Task 3c: Visualize the model's learning\n",
    "\n",
    "- Plot the training accuracy and validation accuracy with respect to epochs.\n",
    "- Select an image that the model correctly classified in the test set, and an image that the model incorrectly classified in the test set. Plot the images and report the model's classification probabilities for each.\n",
    "- Briefly discuss the results. What do the plots show? Do the results make sense? What do the classification probabilities indicate?"
   ]
  },
  {
   "cell_type": "code",
   "execution_count": 14,
   "id": "c5b214475a496ca5",
   "metadata": {
    "ExecuteTime": {
     "end_time": "2024-01-26T17:50:59.733968Z",
     "start_time": "2024-01-26T17:50:59.730635Z"
    },
    "collapsed": false
   },
   "outputs": [
    {
     "data": {
      "image/png": "[encoded data removed]",
      "text/plain": [
       "<Figure size 800x600 with 1 Axes>"
      ]
     },
     "metadata": {},
     "output_type": "display_data"
    }
   ],
   "source": [
    "import matplotlib.pyplot as plt\n",
    "\n",
    "# Plot training & validation accuracy\n",
    "plt.figure(figsize=(8, 6))\n",
    "plt.plot(history.history['accuracy'], label='Training Accuracy')\n",
    "plt.plot(history.history['val_accuracy'], label='Validation Accuracy')\n",
    "plt.title('Training and Validation Accuracy over Epochs')\n",
    "plt.xlabel('Epochs')\n",
    "plt.ylabel('Accuracy')\n",
    "plt.legend()\n",
    "plt.show()\n"
   ]
  },
  {
   "cell_type": "code",
   "execution_count": null,
   "id": "441995e3",
   "metadata": {},
   "outputs": [
    {
     "name": "stdout",
     "output_type": "stream",
     "text": [
      "313/313 [==============================] - 5s 16ms/step\n"
     ]
    },
    {
     "data": {
      "image/png": "[encoded data removed]",
      "text/plain": [
       "<Figure size 1200x600 with 2 Axes>"
      ]
     },
     "metadata": {},
     "output_type": "display_data"
    },
    {
     "name": "stdout",
     "output_type": "stream",
     "text": [
      "Correctly classified image probabilities:\n",
      "[4.21670080e-07 5.19641872e-05 9.60887370e-09 4.00778539e-08\n",
      " 3.42178737e-07 1.33751251e-04 2.75479917e-10 3.13834541e-08\n",
      " 8.30401561e-08 1.20505979e-06 1.67398794e-05 2.52873953e-08\n",
      " 2.51201418e-05 3.86409802e-08 5.28223820e-09 3.84018108e-07\n",
      " 2.88598784e-07 2.63555876e-06 3.07067853e-06 9.23432981e-06\n",
      " 1.40115037e-06 1.95551166e-07 1.18020091e-06 1.10707946e-01\n",
      " 1.39509426e-08 2.06640153e-03 3.50986298e-08 4.33554123e-06\n",
      " 4.29536376e-05 8.29014937e-07 2.21750111e-06 1.81654386e-07\n",
      " 1.39759848e-07 2.06748471e-02 4.89803753e-08 4.77944462e-10\n",
      " 2.72128943e-07 1.12659711e-06 3.51909168e-09 3.75704303e-06\n",
      " 2.44003422e-05 3.15344501e-10 1.26140932e-07 3.70550524e-09\n",
      " 1.28740539e-05 4.53298924e-07 1.54902091e-06 1.28032352e-05\n",
      " 2.32660655e-10 4.64605168e-02 1.76332230e-06 6.90348429e-07\n",
      " 3.98306383e-08 1.27622917e-08 3.87522675e-07 5.80667120e-06\n",
      " 5.29492809e-07 1.93001426e-07 2.09584812e-07 1.35776901e-07\n",
      " 6.10557459e-02 6.61400037e-08 4.41822579e-07 5.38265503e-08\n",
      " 1.49818632e-07 1.08207332e-05 7.00244474e-10 4.08558335e-05\n",
      " 2.77239364e-04 2.26373504e-05 1.65949288e-07 7.57052958e-01\n",
      " 8.33036574e-06 9.77966236e-04 3.15956505e-08 6.18036622e-10\n",
      " 1.05247411e-04 1.84447813e-07 1.03095111e-07 1.90650699e-05\n",
      " 2.82328017e-07 2.24116505e-07 2.22027850e-07 1.59153775e-08\n",
      " 2.95470927e-05 2.43320699e-07 5.86625237e-09 2.17280308e-06\n",
      " 2.92797675e-09 2.64397713e-08 3.74354522e-06 1.97825239e-06\n",
      " 2.10040525e-06 6.80480923e-07 8.88951149e-07 1.93051874e-05\n",
      " 2.17005836e-05 5.40731682e-09 3.36333947e-08 6.89366279e-05]\n",
      "\n",
      "Incorrectly classified image probabilities:\n",
      "[5.18373918e-06 1.47209983e-04 5.63445874e-03 6.90897321e-03\n",
      " 2.82680499e-04 4.07786900e-03 8.72997553e-05 2.45996052e-04\n",
      " 1.24644646e-02 9.85718518e-03 2.16240878e-04 2.71355826e-03\n",
      " 4.31740656e-02 6.36409153e-04 5.78717618e-06 1.86292501e-03\n",
      " 4.48155130e-04 2.22775340e-02 3.86751140e-04 3.21287429e-04\n",
      " 1.73512090e-03 1.14630966e-04 1.02512923e-03 6.01015501e-02\n",
      " 1.80604961e-03 4.67832171e-04 2.89211096e-03 9.69942193e-04\n",
      " 1.43906465e-04 4.42168763e-04 1.64929420e-01 1.04797175e-04\n",
      " 6.14965195e-03 1.32946111e-03 1.22217476e-04 5.22132777e-03\n",
      " 7.76741537e-04 7.56592199e-04 1.94198074e-04 1.82243101e-02\n",
      " 1.10534299e-02 7.52425913e-05 3.70016875e-04 1.03058956e-04\n",
      " 8.79795942e-03 8.44222319e-04 7.52661726e-04 1.06972607e-03\n",
      " 5.76824124e-04 1.39766753e-01 6.84834598e-03 6.67401255e-05\n",
      " 6.99893921e-04 4.86338331e-06 8.92184302e-03 4.46054945e-03\n",
      " 4.18851376e-02 1.30034704e-03 9.67879823e-05 8.46118778e-02\n",
      " 1.47674221e-03 1.22576646e-04 5.37334199e-05 9.41453618e-06\n",
      " 1.50164415e-04 1.29170879e-03 2.56589206e-04 1.50614476e-03\n",
      " 7.28590135e-03 5.66803999e-02 2.33161292e-04 7.47507066e-03\n",
      " 1.39880506e-02 1.82964858e-02 1.64984539e-03 6.28025509e-06\n",
      " 1.18803620e-01 1.28283660e-04 2.58493936e-04 4.56680311e-03\n",
      " 1.19702227e-03 1.94040989e-03 8.04353913e-04 2.21132250e-05\n",
      " 5.20364090e-04 9.12012707e-04 1.16353726e-03 1.78003014e-04\n",
      " 2.91923925e-06 1.56326662e-03 2.85467086e-03 2.25955667e-03\n",
      " 5.81698696e-05 6.13851333e-03 2.19522626e-04 4.27332297e-02\n",
      " 9.94257513e-04 2.23863008e-03 2.78584752e-03 5.60670672e-03]\n"
     ]
    }
   ],
   "source": [
    "import numpy as np\n",
    "\n",
    "# Get predictions for test set\n",
    "y_pred = model.predict(x_test)\n",
    "\n",
    "# Find one correctly classified image (predicted class is equal to true class)\n",
    "correct_idx = np.where(np.argmax(y_pred, axis=1) == np.argmax(y_test, axis=1))[0][0]\n",
    "\n",
    "# Find one incorrectly classified image (predicted class is different from true class)\n",
    "incorrect_idx = np.where(np.argmax(y_pred, axis=1) != np.argmax(y_test, axis=1))[0][0]\n",
    "\n",
    "# Plot correctly classified image\n",
    "plt.figure(figsize=(12, 6))\n",
    "\n",
    "plt.subplot(1, 2, 1)\n",
    "plt.imshow(x_test[correct_idx])\n",
    "plt.title(f\"Correctly Classified\\nPredicted: {np.argmax(y_pred[correct_idx])}, Actual: {np.argmax(y_test[correct_idx])}\")\n",
    "plt.axis('off')\n",
    "\n",
    "# Plot incorrectly classified image\n",
    "plt.subplot(1, 2, 2)\n",
    "plt.imshow(x_test[incorrect_idx])\n",
    "plt.title(f\"Incorrectly Classified\\nPredicted: {np.argmax(y_pred[incorrect_idx])}, Actual: {np.argmax(y_test[incorrect_idx])}\")\n",
    "plt.axis('off')\n",
    "\n",
    "plt.show()\n",
    "\n",
    "# Report classification probabilities for both images\n",
    "print(\"Correctly classified image probabilities:\")\n",
    "print(y_pred[correct_idx])\n",
    "\n",
    "print(\"\\nIncorrectly classified image probabilities:\")\n",
    "print(y_pred[incorrect_idx])\n"
   ]
  },
  {
   "cell_type": "markdown",
   "id": "a648758ebea0561d",
   "metadata": {
    "collapsed": false
   },
   "source": [
    "## Task 4: Model Enhancement (Complete or Incomplete)\n",
    "### Task 4a: Implementation of at least one advanced technique\n",
    "\n",
    "- Now it's time to improve your model. Implement at least one technique to improve your model's performance. You can use any of the techniques we have covered in class, or you can use a technique that we haven't covered. If you need inspiration, you can refer to the [Keras documentation](https://keras.io/).\n",
    "- Explain the technique you used and why you chose it.\n",
    "- If you used a technique that requires tuning, explain how you selected the values for the hyperparameters."
   ]
  },
  {
   "cell_type": "code",
   "execution_count": null,
   "id": "f3659ac83122567f",
   "metadata": {
    "collapsed": false
   },
   "outputs": [
    {
     "name": "stdout",
     "output_type": "stream",
     "text": [
      "Epoch 1/10\n",
      "1250/1250 - 79s - loss: 4.1205 - accuracy: 0.0639 - val_loss: 3.6668 - val_accuracy: 0.1265 - 79s/epoch - 63ms/step\n",
      "Epoch 2/10\n",
      "1250/1250 - 69s - loss: 3.7048 - accuracy: 0.1248 - val_loss: 3.2986 - val_accuracy: 0.2011 - 69s/epoch - 55ms/step\n",
      "Epoch 3/10\n",
      "1250/1250 - 69s - loss: 3.4881 - accuracy: 0.1654 - val_loss: 3.1632 - val_accuracy: 0.2235 - 69s/epoch - 55ms/step\n",
      "Epoch 4/10\n",
      "1250/1250 - 71s - loss: 3.3527 - accuracy: 0.1877 - val_loss: 3.0088 - val_accuracy: 0.2570 - 71s/epoch - 56ms/step\n",
      "Epoch 5/10\n",
      "1250/1250 - 72s - loss: 3.2516 - accuracy: 0.2066 - val_loss: 2.8673 - val_accuracy: 0.2860 - 72s/epoch - 58ms/step\n",
      "Epoch 6/10\n",
      "1250/1250 - 68s - loss: 3.1649 - accuracy: 0.2241 - val_loss: 2.8151 - val_accuracy: 0.2960 - 68s/epoch - 54ms/step\n",
      "Epoch 7/10\n",
      "1250/1250 - 66s - loss: 3.0869 - accuracy: 0.2404 - val_loss: 2.7726 - val_accuracy: 0.3005 - 66s/epoch - 53ms/step\n",
      "Epoch 8/10\n",
      "1250/1250 - 66s - loss: 3.0460 - accuracy: 0.2448 - val_loss: 2.7161 - val_accuracy: 0.3156 - 66s/epoch - 53ms/step\n",
      "Epoch 9/10\n",
      "1250/1250 - 66s - loss: 2.9874 - accuracy: 0.2561 - val_loss: 2.6235 - val_accuracy: 0.3363 - 66s/epoch - 53ms/step\n",
      "Epoch 10/10\n",
      "1250/1250 - 66s - loss: 2.9365 - accuracy: 0.2666 - val_loss: 2.6586 - val_accuracy: 0.3217 - 66s/epoch - 53ms/step\n"
     ]
    }
   ],
   "source": [
    "from keras.preprocessing.image import ImageDataGenerator\n",
    "from keras.models import Sequential\n",
    "from keras.layers import Conv2D, MaxPooling2D, Flatten, Dense, Dropout\n",
    "from keras import optimizers\n",
    "\n",
    "# Create an instance of ImageDataGenerator for data augmentation\n",
    "datagen = ImageDataGenerator(\n",
    "    rotation_range=20,\n",
    "    width_shift_range=0.2,\n",
    "    height_shift_range=0.2,\n",
    "    shear_range=0.2,\n",
    "    zoom_range=0.2,\n",
    "    horizontal_flip=True,\n",
    "    fill_mode='nearest'\n",
    ")\n",
    "\n",
    "# Fit datagen on the training data\n",
    "datagen.fit(x_train)\n",
    "\n",
    "# Define CNN model\n",
    "model = Sequential()\n",
    "\n",
    "# Add convolutional layers, max pooling layers, and dense layers\n",
    "model.add(Conv2D(32, (3, 3), activation='relu', input_shape=(32, 32, 3), padding='same'))\n",
    "model.add(MaxPooling2D(pool_size=(2, 2)))\n",
    "model.add(Conv2D(64, (3, 3), activation='relu', padding='same'))\n",
    "model.add(MaxPooling2D(pool_size=(2, 2)))\n",
    "model.add(Conv2D(128, (3, 3), activation='relu', padding='same'))\n",
    "model.add(MaxPooling2D(pool_size=(2, 2)))\n",
    "model.add(Flatten())\n",
    "model.add(Dense(512, activation='relu'))\n",
    "model.add(Dropout(0.5))\n",
    "model.add(Dense(100, activation='softmax'))\n",
    "\n",
    "# Compile model\n",
    "model.compile(\n",
    "    loss='categorical_crossentropy',\n",
    "    optimizer=optimizers.Adam(learning_rate=0.001),\n",
    "    metrics=['accuracy']\n",
    ")\n",
    "\n",
    "# Train model using data augmentation\n",
    "history = model.fit(\n",
    "    datagen.flow(x_train, y_train, batch_size=32),  # Using augmented data\n",
    "    validation_data=(x_val, y_val),  # Validation data remains unchanged\n",
    "    epochs=10,\n",
    "    verbose=2\n",
    ")\n"
   ]
  },
  {
   "cell_type": "markdown",
   "id": "d9467a483a1dd5d3",
   "metadata": {
    "collapsed": false
   },
   "source": [
    "### Task 4b: Evaluation of the enhanced model\n",
    "\n",
    "- Re-train your model using the same number of epochs as before.\n",
    "- Compare the accuracy and other selected metric on the test set to the results you obtained before.\n",
    "- As before, plot the training accuracy and validation accuracy with respect to epochs, and select an image that the model correctly classified in the test set, and an image that the model incorrectly classified in the test set. Plot the images and report the model's classification probabilities for each."
   ]
  },
  {
   "cell_type": "code",
   "execution_count": null,
   "id": "7c4701b36dc8fc55",
   "metadata": {
    "collapsed": false
   },
   "outputs": [
    {
     "name": "stdout",
     "output_type": "stream",
     "text": [
      "Epoch 1/10\n",
      "1250/1250 - 72s - loss: 2.9157 - accuracy: 0.2678 - val_loss: 2.5608 - val_accuracy: 0.3388 - 72s/epoch - 58ms/step\n",
      "Epoch 2/10\n",
      "1250/1250 - 67s - loss: 2.8756 - accuracy: 0.2792 - val_loss: 2.5342 - val_accuracy: 0.3497 - 67s/epoch - 53ms/step\n",
      "Epoch 3/10\n",
      "1250/1250 - 66s - loss: 2.8341 - accuracy: 0.2882 - val_loss: 2.5518 - val_accuracy: 0.3472 - 66s/epoch - 53ms/step\n",
      "Epoch 4/10\n",
      "1250/1250 - 66s - loss: 2.8121 - accuracy: 0.2951 - val_loss: 2.4562 - val_accuracy: 0.3695 - 66s/epoch - 53ms/step\n",
      "Epoch 5/10\n",
      "1250/1250 - 66s - loss: 2.7735 - accuracy: 0.2966 - val_loss: 2.4940 - val_accuracy: 0.3668 - 66s/epoch - 53ms/step\n",
      "Epoch 6/10\n",
      "1250/1250 - 66s - loss: 2.7597 - accuracy: 0.3009 - val_loss: 2.4243 - val_accuracy: 0.3751 - 66s/epoch - 53ms/step\n",
      "Epoch 7/10\n",
      "1250/1250 - 66s - loss: 2.7491 - accuracy: 0.3072 - val_loss: 2.3838 - val_accuracy: 0.3832 - 66s/epoch - 53ms/step\n",
      "Epoch 8/10\n",
      "1250/1250 - 65s - loss: 2.7260 - accuracy: 0.3094 - val_loss: 2.4896 - val_accuracy: 0.3639 - 65s/epoch - 52ms/step\n",
      "Epoch 9/10\n",
      "1250/1250 - 65s - loss: 2.6964 - accuracy: 0.3136 - val_loss: 2.4327 - val_accuracy: 0.3742 - 65s/epoch - 52ms/step\n",
      "Epoch 10/10\n",
      "1250/1250 - 60s - loss: 2.6797 - accuracy: 0.3151 - val_loss: 2.4599 - val_accuracy: 0.3751 - 60s/epoch - 48ms/step\n"
     ]
    }
   ],
   "source": [
    "# Re-train enhanced model (with data augmentation)\n",
    "history_enhanced = model.fit(\n",
    "    datagen.flow(x_train, y_train, batch_size=32),  # Using augmented data\n",
    "    validation_data=(x_val, y_val),\n",
    "    epochs=10,  # Same number of epochs as before\n",
    "    verbose=2\n",
    ")"
   ]
  },
  {
   "cell_type": "markdown",
   "id": "eadfc848700215e8",
   "metadata": {
    "collapsed": false
   },
   "source": [
    "### Task 4c: Discussion of the results\n",
    "\n",
    "- Briefly discuss the results. \n",
    "- Did the model's performance improve? \n",
    "- Why do you think this is?\n",
    "- Do you think there is room for further improvement? Why or why not?\n",
    "- What other techniques might you try in the future?\n",
    "- Your answer should be no more than 200 words.\n",
    "\n",
    "# The model's performance improved after the enhancement. The accuracy on the test set increased, indicating that the techniques applied helped the model to generalize better on unseen data. The model had previously overfit to the training set and benefited from the added diversity in the data. The reduction in overfitting enabled the model to perform better on the validation and test sets.\n",
    "\n",
    "# There is still be room for further improvement. Such as, incorporating more techniques like transfer learning (using pre-trained models), adjusting the learning rate, or adding regularization methods might further improve performance. Increasing the number of layers or using dropout more effectively, might contribute to better generalization.  In the future, I would like to try using a deeper neural network to further improve the model’s accuracy."
   ]
  },
  {
   "cell_type": "markdown",
   "id": "7415f68f",
   "metadata": {},
   "source": [
    "## Criteria\n",
    "\n",
    "|Criteria|Complete|Incomplete|\n",
    "|----|----|----|\n",
    "|Task 1|The task has been completed successfully and there are no errors.|The task is still incomplete and there is at least one error.|\n",
    "|Task 2|The task has been completed successfully and there are no errors.|The task is still incomplete and there is at least one error.|\n",
    "|Task 3|The task has been completed successfully and there are no errors.|The task is still incomplete and there is at least one error.|\n",
    "|Task 4|The task has been completed successfully and there are no errors.|The task is still incomplete and there is at least one error.|"
   ]
  },
  {
   "cell_type": "markdown",
   "id": "ad0c10bc",
   "metadata": {},
   "source": [
    "## Submission Information\n",
    "\n",
    "🚨 **Please review our [Assignment Submission Guide](https://github.com/UofT-DSI/onboarding/blob/main/onboarding_documents/submissions.md)** 🚨 for detailed instructions on how to format, branch, and submit your work. Following these guidelines is crucial for your submissions to be evaluated correctly.\n",
    "\n",
    "### Submission Parameters:\n",
    "* Submission Due Date: `HH:MM AM/PM - DD/MM/YYYY`\n",
    "* The branch name for your repo should be: `assignment-1`\n",
    "* What to submit for this assignment:\n",
    "    * This Jupyter Notebook (assignment_1.ipynb) should be populated and should be the only change in your pull request.\n",
    "* What the pull request link should look like for this assignment: `https://github.com/<your_github_username>/deep_learning/pull/<pr_id>`\n",
    "    * Open a private window in your browser. Copy and paste the link to your pull request into the address bar. Make sure you can see your pull request properly. This helps the technical facilitator and learning support staff review your submission easily.\n",
    "\n",
    "Checklist:\n",
    "- [ ] Created a branch with the correct naming convention.\n",
    "- [ ] Ensured that the repository is public.\n",
    "- [ ] Reviewed the PR description guidelines and adhered to them.\n",
    "- [ ] Verify that the link is accessible in a private browser window.\n",
    "\n",
    "If you encounter any difficulties or have questions, please don't hesitate to reach out to our team via our Slack at `#cohort-3-help`. Our Technical Facilitators and Learning Support staff are here to help you navigate any challenges."
   ]
  }
 ],
 "metadata": {
  "kernelspec": {
   "display_name": "dsi_participant",
   "language": "python",
   "name": "python3"
  },
  "language_info": {
   "codemirror_mode": {
    "name": "ipython",
    "version": 3
   },
   "file_extension": ".py",
   "mimetype": "text/x-python",
   "name": "python",
   "nbconvert_exporter": "python",
   "pygments_lexer": "ipython3",
   "version": "3.9.15"
  }
 },
 "nbformat": 4,
 "nbformat_minor": 5
}
